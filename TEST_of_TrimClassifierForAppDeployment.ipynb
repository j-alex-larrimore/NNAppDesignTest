{
  "nbformat": 4,
  "nbformat_minor": 0,
  "metadata": {
    "colab": {
      "provenance": [],
      "include_colab_link": true
    },
    "kernelspec": {
      "name": "python3",
      "display_name": "Python 3"
    },
    "accelerator": "GPU",
    "widgets": {
      "application/vnd.jupyter.widget-state+json": {
        "339f9487babf4a1380e4e2b88a7be071": {
          "model_module": "@jupyter-widgets/controls",
          "model_name": "VBoxModel",
          "model_module_version": "1.5.0",
          "state": {
            "_view_name": "VBoxView",
            "_dom_classes": [],
            "_model_name": "VBoxModel",
            "_view_module": "@jupyter-widgets/controls",
            "_model_module_version": "1.5.0",
            "_view_count": null,
            "_view_module_version": "1.5.0",
            "box_style": "",
            "layout": "IPY_MODEL_9ea4df3c50b44feebfb43e60cf3b0949",
            "_model_module": "@jupyter-widgets/controls",
            "children": [
              "IPY_MODEL_dc56b94b24b64d0e9fe93166ba342d7d",
              "IPY_MODEL_f9e04f012c914cfdb7d9033b032902bb",
              "IPY_MODEL_682c6583d24344ce9e19686c03515b90",
              "IPY_MODEL_d43846f630474dbaa6e9aae24eab4df4",
              "IPY_MODEL_a80e3703fbfc4612a95a36f84dd6e3b9"
            ]
          }
        },
        "9ea4df3c50b44feebfb43e60cf3b0949": {
          "model_module": "@jupyter-widgets/base",
          "model_name": "LayoutModel",
          "model_module_version": "1.2.0",
          "state": {
            "_view_name": "LayoutView",
            "grid_template_rows": null,
            "right": null,
            "justify_content": null,
            "_view_module": "@jupyter-widgets/base",
            "overflow": null,
            "_model_module_version": "1.2.0",
            "_view_count": null,
            "flex_flow": null,
            "width": null,
            "min_width": null,
            "border": null,
            "align_items": null,
            "bottom": null,
            "_model_module": "@jupyter-widgets/base",
            "top": null,
            "grid_column": null,
            "overflow_y": null,
            "overflow_x": null,
            "grid_auto_flow": null,
            "grid_area": null,
            "grid_template_columns": null,
            "flex": null,
            "_model_name": "LayoutModel",
            "justify_items": null,
            "grid_row": null,
            "max_height": null,
            "align_content": null,
            "visibility": null,
            "align_self": null,
            "height": null,
            "min_height": null,
            "padding": null,
            "grid_auto_rows": null,
            "grid_gap": null,
            "max_width": null,
            "order": null,
            "_view_module_version": "1.2.0",
            "grid_template_areas": null,
            "object_position": null,
            "object_fit": null,
            "grid_auto_columns": null,
            "margin": null,
            "display": null,
            "left": null
          }
        },
        "dc56b94b24b64d0e9fe93166ba342d7d": {
          "model_module": "@jupyter-widgets/controls",
          "model_name": "LabelModel",
          "model_module_version": "1.5.0",
          "state": {
            "_view_name": "LabelView",
            "style": "IPY_MODEL_41def96661774abfbda702f3b8a3feac",
            "_dom_classes": [],
            "description": "",
            "_model_name": "LabelModel",
            "placeholder": "​",
            "_view_module": "@jupyter-widgets/controls",
            "_model_module_version": "1.5.0",
            "value": "Select your bear!",
            "_view_count": null,
            "_view_module_version": "1.5.0",
            "description_tooltip": null,
            "_model_module": "@jupyter-widgets/controls",
            "layout": "IPY_MODEL_41b6461827434af3a9fd0511bb3fdb08"
          }
        },
        "f9e04f012c914cfdb7d9033b032902bb": {
          "model_module": "@jupyter-widgets/controls",
          "model_name": "FileUploadModel",
          "model_module_version": "1.5.0",
          "state": {
            "_view_name": "FileUploadView",
            "_counter": 0,
            "style": "IPY_MODEL_2c4ff406acd64a31bf30870cf24d71c9",
            "_dom_classes": [],
            "description": "Upload",
            "multiple": false,
            "_model_name": "FileUploadModel",
            "data": [],
            "button_style": "",
            "_view_module": "@jupyter-widgets/controls",
            "_model_module_version": "1.5.0",
            "accept": "",
            "_view_count": null,
            "disabled": false,
            "_view_module_version": "1.5.0",
            "error": "",
            "description_tooltip": null,
            "metadata": [],
            "_model_module": "@jupyter-widgets/controls",
            "layout": "IPY_MODEL_6c9b3a53e03a4f559709454a8a20faf0",
            "icon": "upload"
          }
        },
        "682c6583d24344ce9e19686c03515b90": {
          "model_module": "@jupyter-widgets/controls",
          "model_name": "ButtonModel",
          "model_module_version": "1.5.0",
          "state": {
            "_view_name": "ButtonView",
            "style": "IPY_MODEL_b5f8ed1a40004acc84f55d400413e3ee",
            "_dom_classes": [],
            "description": "Classify",
            "_model_name": "ButtonModel",
            "button_style": "",
            "_view_module": "@jupyter-widgets/controls",
            "_model_module_version": "1.5.0",
            "tooltip": "",
            "_view_count": null,
            "disabled": false,
            "_view_module_version": "1.5.0",
            "layout": "IPY_MODEL_3e4a724f69e747f5bd182afd3d9e3e85",
            "_model_module": "@jupyter-widgets/controls",
            "icon": ""
          }
        },
        "d43846f630474dbaa6e9aae24eab4df4": {
          "model_module": "@jupyter-widgets/output",
          "model_name": "OutputModel",
          "model_module_version": "1.0.0",
          "state": {
            "_view_name": "OutputView",
            "msg_id": "",
            "_dom_classes": [],
            "_model_name": "OutputModel",
            "outputs": [],
            "_view_module": "@jupyter-widgets/output",
            "_model_module_version": "1.0.0",
            "_view_count": null,
            "_view_module_version": "1.0.0",
            "layout": "IPY_MODEL_fb9ca58d20a640bcb059819334f5ca98",
            "_model_module": "@jupyter-widgets/output"
          }
        },
        "a80e3703fbfc4612a95a36f84dd6e3b9": {
          "model_module": "@jupyter-widgets/controls",
          "model_name": "LabelModel",
          "model_module_version": "1.5.0",
          "state": {
            "_view_name": "LabelView",
            "style": "IPY_MODEL_2ce8d4e2e2f04ea18772e00f227b8e63",
            "_dom_classes": [],
            "description": "",
            "_model_name": "LabelModel",
            "placeholder": "​",
            "_view_module": "@jupyter-widgets/controls",
            "_model_module_version": "1.5.0",
            "value": "",
            "_view_count": null,
            "_view_module_version": "1.5.0",
            "description_tooltip": null,
            "_model_module": "@jupyter-widgets/controls",
            "layout": "IPY_MODEL_8fd74c69eaf64f6aa32affbf3f4854f3"
          }
        },
        "41def96661774abfbda702f3b8a3feac": {
          "model_module": "@jupyter-widgets/controls",
          "model_name": "DescriptionStyleModel",
          "model_module_version": "1.5.0",
          "state": {
            "_view_name": "StyleView",
            "_model_name": "DescriptionStyleModel",
            "description_width": "",
            "_view_module": "@jupyter-widgets/base",
            "_model_module_version": "1.5.0",
            "_view_count": null,
            "_view_module_version": "1.2.0",
            "_model_module": "@jupyter-widgets/controls"
          }
        },
        "41b6461827434af3a9fd0511bb3fdb08": {
          "model_module": "@jupyter-widgets/base",
          "model_name": "LayoutModel",
          "model_module_version": "1.2.0",
          "state": {
            "_view_name": "LayoutView",
            "grid_template_rows": null,
            "right": null,
            "justify_content": null,
            "_view_module": "@jupyter-widgets/base",
            "overflow": null,
            "_model_module_version": "1.2.0",
            "_view_count": null,
            "flex_flow": null,
            "width": null,
            "min_width": null,
            "border": null,
            "align_items": null,
            "bottom": null,
            "_model_module": "@jupyter-widgets/base",
            "top": null,
            "grid_column": null,
            "overflow_y": null,
            "overflow_x": null,
            "grid_auto_flow": null,
            "grid_area": null,
            "grid_template_columns": null,
            "flex": null,
            "_model_name": "LayoutModel",
            "justify_items": null,
            "grid_row": null,
            "max_height": null,
            "align_content": null,
            "visibility": null,
            "align_self": null,
            "height": null,
            "min_height": null,
            "padding": null,
            "grid_auto_rows": null,
            "grid_gap": null,
            "max_width": null,
            "order": null,
            "_view_module_version": "1.2.0",
            "grid_template_areas": null,
            "object_position": null,
            "object_fit": null,
            "grid_auto_columns": null,
            "margin": null,
            "display": null,
            "left": null
          }
        },
        "2c4ff406acd64a31bf30870cf24d71c9": {
          "model_module": "@jupyter-widgets/controls",
          "model_name": "ButtonStyleModel",
          "model_module_version": "1.5.0",
          "state": {
            "_view_name": "StyleView",
            "_model_name": "ButtonStyleModel",
            "_view_module": "@jupyter-widgets/base",
            "_model_module_version": "1.5.0",
            "_view_count": null,
            "button_color": null,
            "font_weight": "",
            "_view_module_version": "1.2.0",
            "_model_module": "@jupyter-widgets/controls"
          }
        },
        "6c9b3a53e03a4f559709454a8a20faf0": {
          "model_module": "@jupyter-widgets/base",
          "model_name": "LayoutModel",
          "model_module_version": "1.2.0",
          "state": {
            "_view_name": "LayoutView",
            "grid_template_rows": null,
            "right": null,
            "justify_content": null,
            "_view_module": "@jupyter-widgets/base",
            "overflow": null,
            "_model_module_version": "1.2.0",
            "_view_count": null,
            "flex_flow": null,
            "width": null,
            "min_width": null,
            "border": null,
            "align_items": null,
            "bottom": null,
            "_model_module": "@jupyter-widgets/base",
            "top": null,
            "grid_column": null,
            "overflow_y": null,
            "overflow_x": null,
            "grid_auto_flow": null,
            "grid_area": null,
            "grid_template_columns": null,
            "flex": null,
            "_model_name": "LayoutModel",
            "justify_items": null,
            "grid_row": null,
            "max_height": null,
            "align_content": null,
            "visibility": null,
            "align_self": null,
            "height": null,
            "min_height": null,
            "padding": null,
            "grid_auto_rows": null,
            "grid_gap": null,
            "max_width": null,
            "order": null,
            "_view_module_version": "1.2.0",
            "grid_template_areas": null,
            "object_position": null,
            "object_fit": null,
            "grid_auto_columns": null,
            "margin": null,
            "display": null,
            "left": null
          }
        },
        "b5f8ed1a40004acc84f55d400413e3ee": {
          "model_module": "@jupyter-widgets/controls",
          "model_name": "ButtonStyleModel",
          "model_module_version": "1.5.0",
          "state": {
            "_view_name": "StyleView",
            "_model_name": "ButtonStyleModel",
            "_view_module": "@jupyter-widgets/base",
            "_model_module_version": "1.5.0",
            "_view_count": null,
            "button_color": null,
            "font_weight": "",
            "_view_module_version": "1.2.0",
            "_model_module": "@jupyter-widgets/controls"
          }
        },
        "3e4a724f69e747f5bd182afd3d9e3e85": {
          "model_module": "@jupyter-widgets/base",
          "model_name": "LayoutModel",
          "model_module_version": "1.2.0",
          "state": {
            "_view_name": "LayoutView",
            "grid_template_rows": null,
            "right": null,
            "justify_content": null,
            "_view_module": "@jupyter-widgets/base",
            "overflow": null,
            "_model_module_version": "1.2.0",
            "_view_count": null,
            "flex_flow": null,
            "width": null,
            "min_width": null,
            "border": null,
            "align_items": null,
            "bottom": null,
            "_model_module": "@jupyter-widgets/base",
            "top": null,
            "grid_column": null,
            "overflow_y": null,
            "overflow_x": null,
            "grid_auto_flow": null,
            "grid_area": null,
            "grid_template_columns": null,
            "flex": null,
            "_model_name": "LayoutModel",
            "justify_items": null,
            "grid_row": null,
            "max_height": null,
            "align_content": null,
            "visibility": null,
            "align_self": null,
            "height": null,
            "min_height": null,
            "padding": null,
            "grid_auto_rows": null,
            "grid_gap": null,
            "max_width": null,
            "order": null,
            "_view_module_version": "1.2.0",
            "grid_template_areas": null,
            "object_position": null,
            "object_fit": null,
            "grid_auto_columns": null,
            "margin": null,
            "display": null,
            "left": null
          }
        },
        "2ce8d4e2e2f04ea18772e00f227b8e63": {
          "model_module": "@jupyter-widgets/controls",
          "model_name": "DescriptionStyleModel",
          "model_module_version": "1.5.0",
          "state": {
            "_view_name": "StyleView",
            "_model_name": "DescriptionStyleModel",
            "description_width": "",
            "_view_module": "@jupyter-widgets/base",
            "_model_module_version": "1.5.0",
            "_view_count": null,
            "_view_module_version": "1.2.0",
            "_model_module": "@jupyter-widgets/controls"
          }
        },
        "8fd74c69eaf64f6aa32affbf3f4854f3": {
          "model_module": "@jupyter-widgets/base",
          "model_name": "LayoutModel",
          "model_module_version": "1.2.0",
          "state": {
            "_view_name": "LayoutView",
            "grid_template_rows": null,
            "right": null,
            "justify_content": null,
            "_view_module": "@jupyter-widgets/base",
            "overflow": null,
            "_model_module_version": "1.2.0",
            "_view_count": null,
            "flex_flow": null,
            "width": null,
            "min_width": null,
            "border": null,
            "align_items": null,
            "bottom": null,
            "_model_module": "@jupyter-widgets/base",
            "top": null,
            "grid_column": null,
            "overflow_y": null,
            "overflow_x": null,
            "grid_auto_flow": null,
            "grid_area": null,
            "grid_template_columns": null,
            "flex": null,
            "_model_name": "LayoutModel",
            "justify_items": null,
            "grid_row": null,
            "max_height": null,
            "align_content": null,
            "visibility": null,
            "align_self": null,
            "height": null,
            "min_height": null,
            "padding": null,
            "grid_auto_rows": null,
            "grid_gap": null,
            "max_width": null,
            "order": null,
            "_view_module_version": "1.2.0",
            "grid_template_areas": null,
            "object_position": null,
            "object_fit": null,
            "grid_auto_columns": null,
            "margin": null,
            "display": null,
            "left": null
          }
        },
        "fb9ca58d20a640bcb059819334f5ca98": {
          "model_module": "@jupyter-widgets/base",
          "model_name": "LayoutModel",
          "model_module_version": "1.2.0",
          "state": {
            "_view_name": "LayoutView",
            "grid_template_rows": null,
            "right": null,
            "justify_content": null,
            "_view_module": "@jupyter-widgets/base",
            "overflow": null,
            "_model_module_version": "1.2.0",
            "_view_count": null,
            "flex_flow": null,
            "width": null,
            "min_width": null,
            "border": null,
            "align_items": null,
            "bottom": null,
            "_model_module": "@jupyter-widgets/base",
            "top": null,
            "grid_column": null,
            "overflow_y": null,
            "overflow_x": null,
            "grid_auto_flow": null,
            "grid_area": null,
            "grid_template_columns": null,
            "flex": null,
            "_model_name": "LayoutModel",
            "justify_items": null,
            "grid_row": null,
            "max_height": null,
            "align_content": null,
            "visibility": null,
            "align_self": null,
            "height": null,
            "min_height": null,
            "padding": null,
            "grid_auto_rows": null,
            "grid_gap": null,
            "max_width": null,
            "order": null,
            "_view_module_version": "1.2.0",
            "grid_template_areas": null,
            "object_position": null,
            "object_fit": null,
            "grid_auto_columns": null,
            "margin": null,
            "display": null,
            "left": null
          }
        }
      }
    }
  },
  "cells": [
    {
      "cell_type": "markdown",
      "metadata": {
        "id": "view-in-github",
        "colab_type": "text"
      },
      "source": [
        "<a href=\"https://colab.research.google.com/github/j-alex-larrimore/NNAppDesignTest/blob/main/TEST_of_TrimClassifierForAppDeployment.ipynb\" target=\"_parent\"><img src=\"https://colab.research.google.com/assets/colab-badge.svg\" alt=\"Open In Colab\"/></a>"
      ]
    },
    {
      "cell_type": "markdown",
      "metadata": {
        "id": "VVMjLKqp2as3"
      },
      "source": [
        "#Trimmed down version to store on Github"
      ]
    },
    {
      "cell_type": "code",
      "metadata": {
        "id": "A9zdMqluJDgn"
      },
      "source": [
        "from fastai.vision.all import *\n",
        "from fastai.vision.widgets import *"
      ],
      "execution_count": null,
      "outputs": []
    },
    {
      "cell_type": "code",
      "metadata": {
        "id": "obitad3w_UZb"
      },
      "source": [
        "learn_inf = load_learner('export.pkl')"
      ],
      "execution_count": null,
      "outputs": []
    },
    {
      "cell_type": "code",
      "metadata": {
        "id": "bNdHdYq4_7sq"
      },
      "source": [
        "btn_upload = widgets.FileUpload()"
      ],
      "execution_count": null,
      "outputs": []
    },
    {
      "cell_type": "code",
      "metadata": {
        "id": "m40M-gtwEP6V"
      },
      "source": [
        "btn_run = widgets.Button(description='Classify')"
      ],
      "execution_count": null,
      "outputs": []
    },
    {
      "cell_type": "code",
      "metadata": {
        "id": "QOOhhRguEYHJ"
      },
      "source": [
        "out_pl = widgets.Output()\n",
        "lbl_pred = widgets.Label()"
      ],
      "execution_count": null,
      "outputs": []
    },
    {
      "cell_type": "code",
      "metadata": {
        "id": "sMo0_9ZEhyl8"
      },
      "source": [
        "def on_click_classify(change):\n",
        "    img = PILImage.create([f.content.tobytes() for f in btn_upload.value][-1])\n",
        "    out_pl.clear_output()\n",
        "    with out_pl: display(img.to_thumb(128,128))\n",
        "    pred,pred_idx,probs = learn_inf.predict(img)\n",
        "    lbl_pred.value = f'Prediction: {pred}; Probability: {probs[pred_idx]:.04f}'\n",
        "\n",
        "btn_run.on_click(on_click_classify)"
      ],
      "execution_count": null,
      "outputs": []
    },
    {
      "cell_type": "markdown",
      "metadata": {
        "id": "JgNWssAsh9a0"
      },
      "source": [
        "Classify your bear!"
      ]
    },
    {
      "cell_type": "code",
      "metadata": {
        "id": "30PYBlv-EymF",
        "colab": {
          "base_uri": "https://localhost:8080/",
          "height": 145,
          "referenced_widgets": [
            "339f9487babf4a1380e4e2b88a7be071",
            "9ea4df3c50b44feebfb43e60cf3b0949",
            "dc56b94b24b64d0e9fe93166ba342d7d",
            "f9e04f012c914cfdb7d9033b032902bb",
            "682c6583d24344ce9e19686c03515b90",
            "d43846f630474dbaa6e9aae24eab4df4",
            "a80e3703fbfc4612a95a36f84dd6e3b9",
            "41def96661774abfbda702f3b8a3feac",
            "41b6461827434af3a9fd0511bb3fdb08",
            "2c4ff406acd64a31bf30870cf24d71c9",
            "6c9b3a53e03a4f559709454a8a20faf0",
            "b5f8ed1a40004acc84f55d400413e3ee",
            "3e4a724f69e747f5bd182afd3d9e3e85",
            "2ce8d4e2e2f04ea18772e00f227b8e63",
            "8fd74c69eaf64f6aa32affbf3f4854f3",
            "fb9ca58d20a640bcb059819334f5ca98"
          ]
        },
        "outputId": "77894f13-8567-4a82-d04e-bb586c1d7c50"
      },
      "source": [
        "VBox([widgets.Label('Select your bear!'), \n",
        "      btn_upload, btn_run, out_pl, lbl_pred])"
      ],
      "execution_count": null,
      "outputs": [
        {
          "output_type": "display_data",
          "data": {
            "application/vnd.jupyter.widget-view+json": {
              "model_id": "339f9487babf4a1380e4e2b88a7be071",
              "version_minor": 0,
              "version_major": 2
            },
            "text/plain": [
              "VBox(children=(Label(value='Select your bear!'), FileUpload(value={}, description='Upload'), Button(descriptio…"
            ]
          },
          "metadata": {
            "tags": []
          }
        }
      ]
    },
    {
      "cell_type": "markdown",
      "source": [
        "HBox layout"
      ],
      "metadata": {
        "id": "wvDyVVF_uYD6"
      }
    },
    {
      "cell_type": "code",
      "source": [
        "HBox([widgets.Label('Select your bear!'), \n",
        "      btn_upload, btn_run, out_pl, lbl_pred])"
      ],
      "metadata": {
        "id": "HZoBOnZIuYX3",
        "colab": {
          "base_uri": "https://localhost:8080/",
          "height": 110,
          "referenced_widgets": [
            "74cb8b4190cd46c3a577c74e3a6beac4",
            "55612dc10a0e490ab8c3a9fa437756c4",
            "a4532e28173d4407b9dfadf286c47644",
            "3b898d836d5a43fd8fcbcda82cdbff68",
            "a9bbf8eaedc4426287ad577323a0bbe3",
            "0d0a897ae77f458e8c45a05af3413017",
            "a0b1a9686f7e4b55929585e6c6e39149",
            "c8403c60f3994159848319e85f54a3d9",
            "8d67ff00c3ff4f84ab1fa08404ce3527",
            "3a2549e8ba394e6abacec8a7d9956984",
            "554f0894b6d74377861947700d6499d0",
            "96c062eca1ad48adb3e48628bb891f38",
            "9d1945e9605d42858e038d3fafe126a0",
            "c42ee5986e864bdaa0ed6b40a84e1b4f",
            "ab8bd58b45d245db86041a65fc60c6e4",
            "692ea8184c0e478e89eabb28b5f31f05"
          ]
        },
        "outputId": "90406c65-5442-4639-efc3-a68a5f2cad5d"
      },
      "execution_count": null,
      "outputs": [
        {
          "output_type": "display_data",
          "data": {
            "text/plain": [
              "HBox(children=(Label(value='Select your bear!'), FileUpload(value={'image.png': {'metadata': {'name': 'image.p…"
            ],
            "application/vnd.jupyter.widget-view+json": {
              "version_major": 2,
              "version_minor": 0,
              "model_id": "74cb8b4190cd46c3a577c74e3a6beac4"
            }
          },
          "metadata": {}
        }
      ]
    },
    {
      "cell_type": "markdown",
      "source": [
        "GridBox"
      ],
      "metadata": {
        "id": "TFL-AddeA-MT"
      }
    },
    {
      "cell_type": "code",
      "source": [
        "btn_label = widgets.Label('Select your bear!')\n",
        "widgets.GridBox(children=[btn_label, btn_upload, btn_run, out_pl, lbl_pred], \n",
        "            layout=widgets.Layout(\n",
        "                            width='100%',\n",
        "                            grid_template_columns='25% 25% 25% 25%',\n",
        "                            grid_template_rows='80px 40px 80px 40px',\n",
        "                            grid_gap='12px 2px'))"
      ],
      "metadata": {
        "colab": {
          "base_uri": "https://localhost:8080/",
          "height": 366,
          "referenced_widgets": [
            "aca55338e4a84a77a2dc0dfac9126236",
            "f120087ef79942059a9aed0c3a91c90c",
            "a4532e28173d4407b9dfadf286c47644",
            "3b898d836d5a43fd8fcbcda82cdbff68",
            "a9bbf8eaedc4426287ad577323a0bbe3",
            "0d0a897ae77f458e8c45a05af3413017",
            "b53fa62d69144f19bbf5da44e18004b9",
            "3a210a55ff354b1b9b6967f93ecf6c73",
            "bb152a15202d47f3889c6c8dc8db0499",
            "3a2549e8ba394e6abacec8a7d9956984",
            "554f0894b6d74377861947700d6499d0",
            "96c062eca1ad48adb3e48628bb891f38",
            "9d1945e9605d42858e038d3fafe126a0",
            "c42ee5986e864bdaa0ed6b40a84e1b4f",
            "ab8bd58b45d245db86041a65fc60c6e4",
            "692ea8184c0e478e89eabb28b5f31f05"
          ]
        },
        "id": "sn_DgS3OA9pb",
        "outputId": "64ef90b3-5394-46cb-9d34-7efc456eaac3"
      },
      "execution_count": null,
      "outputs": [
        {
          "output_type": "display_data",
          "data": {
            "text/plain": [
              "GridBox(children=(Label(value='Select your bear!'), FileUpload(value={'image.png': {'metadata': {'name': 'imag…"
            ],
            "application/vnd.jupyter.widget-view+json": {
              "version_major": 2,
              "version_minor": 0,
              "model_id": "aca55338e4a84a77a2dc0dfac9126236"
            }
          },
          "metadata": {}
        }
      ]
    },
    {
      "cell_type": "markdown",
      "source": [
        "AppLayout"
      ],
      "metadata": {
        "id": "OdJSaFTqD1Yt"
      }
    },
    {
      "cell_type": "code",
      "source": [
        "from ipywidgets import AppLayout, Button, Layout\n",
        "\n",
        "def create_expanded_button(description, button_style):\n",
        "    return Button(description=description, button_style=button_style, layout=Layout(height='auto', width='auto'))\n",
        "\n",
        "header_button = create_expanded_button('Header', 'success')\n",
        "left_button = create_expanded_button('Left', 'info')\n",
        "center_button = create_expanded_button('Center', 'warning')\n",
        "right_button = create_expanded_button('Right', 'info')\n",
        "footer_button = create_expanded_button('Footer', 'success')"
      ],
      "metadata": {
        "id": "us32L4zhF9ey"
      },
      "execution_count": null,
      "outputs": []
    },
    {
      "cell_type": "code",
      "source": [
        "AppLayout(header=header_button,\n",
        "          left_sidebar=left_button,\n",
        "          center=center_button,\n",
        "          right_sidebar=right_button,\n",
        "          footer=footer_button)"
      ],
      "metadata": {
        "colab": {
          "base_uri": "https://localhost:8080/",
          "height": 177,
          "referenced_widgets": [
            "eb502df537644c35956fc092b98cfe1f",
            "7a44708c6e744e36b215b715e92bf52d",
            "0cce3c5c95394f86a196f408739d61e9",
            "06bcf762d95e49b6a4e2a45465d41bdb",
            "7da6778568ca43c2a1e001161a618e18",
            "c78377ad186c4559b1a03582910e6e47",
            "cf6123e58bee49f7a0ae1b9f6c1e524a",
            "a7a7b35e480f41cbb54c400d7dba84cd",
            "e082ed2e27cc4adab62dded78d3e6075",
            "60efbd63088245738f0515cbebcd8e1c",
            "150f50e2e7244929ae0f934b0c1a944f",
            "c1330982b11b4c06937c2304f0d7314d",
            "7de2da2f3c5b4d0fa977d1072826b579",
            "2547b0bde6ce4be5bb92750085eb3192",
            "fa0f39d1f7fd4244aecb32769437150e",
            "077525be03cc4313aef6bc31db6e5fae",
            "051b8c914ad54768954065d73aa45ce2"
          ]
        },
        "id": "8DSPXlC1CIWH",
        "outputId": "2cf293ad-aa2c-428e-8536-498618efa35f"
      },
      "execution_count": null,
      "outputs": [
        {
          "output_type": "display_data",
          "data": {
            "text/plain": [
              "AppLayout(children=(Button(button_style='success', description='Header', layout=Layout(grid_area='header', hei…"
            ],
            "application/vnd.jupyter.widget-view+json": {
              "version_major": 2,
              "version_minor": 0,
              "model_id": "eb502df537644c35956fc092b98cfe1f"
            }
          },
          "metadata": {}
        }
      ]
    },
    {
      "cell_type": "markdown",
      "source": [
        "Gridspec Layout"
      ],
      "metadata": {
        "id": "9bNtwpenEduN"
      }
    },
    {
      "cell_type": "code",
      "source": [
        "from ipywidgets import GridspecLayout\n",
        "\n",
        "def create_expanded_button(description, button_style):\n",
        "    return Button(description=description, button_style=button_style, layout=Layout(height='auto', width='auto'))\n",
        "\n",
        "grid = GridspecLayout(4, 3)\n",
        "\n",
        "for i in range(4):\n",
        "    for j in range(3):\n",
        "        grid[i, j] = create_expanded_button('Button {} - {}'.format(i, j), 'warning')\n",
        "\n",
        "grid[2, 2] = btn_label\n",
        "grid[3, 1] = lbl_pred\n",
        "grid[2, 0] = out_pl\n",
        "grid"
      ],
      "metadata": {
        "colab": {
          "base_uri": "https://localhost:8080/",
          "height": 389,
          "referenced_widgets": [
            "49f6f68e405f42f6b1a150b3db3d7d33",
            "2356789600d1475da099a1df852ff410",
            "3615be295ce7486cbec614adb7889e23",
            "cbf5fc86b66f4b6f87f3314ae33f1b85",
            "80af001439ac4c63a18f7b3164a6a573",
            "d676de4a401d47298e6312384ac67ba7",
            "312fe677440649b7ac203747d61a5c3a",
            "e12a57f09dcb41fb868ba4fb29d31cd5",
            "024129a9c9b2478f8c276ae5a6616db8",
            "b2a4a429c77647f8929185d241ba98b4",
            "6afc41a8fc3c4fcb8986a7b70f97d39d",
            "0d0a897ae77f458e8c45a05af3413017",
            "a9bbf8eaedc4426287ad577323a0bbe3",
            "b8fa818dbb1e480eae6cccf613e24bba",
            "604cad87760b4e5ea2172f381564639b",
            "0bedb0ffb8a142299f5e335c4233733f",
            "b136d5a01f4542afb19ce6631db2f00a",
            "dd18524f3bad486abf71960c154d35ef",
            "084a836dd8e04eafabbede5cbdbcfb21",
            "180c70d4196545489322d7dc85d38bf8",
            "abd66f585f9b47128f8ca256522a7a6f",
            "41497bb4e7334a2c8fa24cf7bd171cdb",
            "00c8ef301f4a4981840318fc7236f147",
            "a7647c9c91cb459895930941fd11e952",
            "331f0464e1674f2d816eab28544d95bb",
            "420425ab6e1347f6b7cf9b6c45e58e41",
            "b903d5a623564555971ae5a1f62f7a67",
            "5a4374703e2544d3be630cbf8f2f18e8",
            "f3041a64f961451ca5bfc6a23ff42848",
            "42393a4838e4478b89473d429f2b80a1",
            "66cedb2f619749b49e09ce66b7bf278f",
            "6460e0e4aee843daa975e8b1ffe50e20",
            "3b96b873ad464c199f31810aece436d1",
            "1a3b230125cc4a8ea7afb18b1fc6dc80",
            "c42ee5986e864bdaa0ed6b40a84e1b4f",
            "ab8bd58b45d245db86041a65fc60c6e4",
            "692ea8184c0e478e89eabb28b5f31f05"
          ]
        },
        "id": "ERyuWIGtEeFG",
        "outputId": "b274709c-1ce7-47a4-e75b-6f81f2a2e46d"
      },
      "execution_count": null,
      "outputs": [
        {
          "output_type": "display_data",
          "data": {
            "text/plain": [
              "GridspecLayout(children=(Button(button_style='warning', description='Button 0 - 0', layout=Layout(grid_area='w…"
            ],
            "application/vnd.jupyter.widget-view+json": {
              "version_major": 2,
              "version_minor": 0,
              "model_id": "49f6f68e405f42f6b1a150b3db3d7d33"
            }
          },
          "metadata": {}
        }
      ]
    }
  ]
}